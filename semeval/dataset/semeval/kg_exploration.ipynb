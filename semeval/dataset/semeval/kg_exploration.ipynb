{
 "cells": [
  {
   "cell_type": "code",
   "execution_count": 9,
   "metadata": {},
   "outputs": [],
   "source": [
    "import os\n",
    "import json\n",
    "import numpy as np\n",
    "from collections import defaultdict"
   ]
  },
  {
   "cell_type": "code",
   "execution_count": 3,
   "metadata": {},
   "outputs": [
    {
     "data": {
      "text/plain": [
       "'/Users/georgestoica/Desktop/icloud_desktop/Research/gcn-over-pruned-trees/semeval/dataset/semeval'"
      ]
     },
     "execution_count": 3,
     "metadata": {},
     "output_type": "execute_result"
    }
   ],
   "source": [
    "os.getcwd()"
   ]
  },
  {
   "cell_type": "code",
   "execution_count": 4,
   "metadata": {},
   "outputs": [],
   "source": [
    "train_file = os.path.join(os.getcwd(), 'train.json')\n",
    "test_file = os.path.join(os.getcwd(), 'test.json')"
   ]
  },
  {
   "cell_type": "code",
   "execution_count": 5,
   "metadata": {},
   "outputs": [],
   "source": [
    "def load_data(data_file):\n",
    "    return json.load(open(data_file, 'r'))\n",
    "train_data = load_data(train_file)\n",
    "test_data = load_data(test_file)"
   ]
  },
  {
   "cell_type": "code",
   "execution_count": 6,
   "metadata": {},
   "outputs": [
    {
     "data": {
      "text/plain": [
       "8000"
      ]
     },
     "execution_count": 6,
     "metadata": {},
     "output_type": "execute_result"
    }
   ],
   "source": [
    "len(train_data)"
   ]
  },
  {
   "cell_type": "code",
   "execution_count": 7,
   "metadata": {},
   "outputs": [
    {
     "data": {
      "text/plain": [
       "2717"
      ]
     },
     "execution_count": 7,
     "metadata": {},
     "output_type": "execute_result"
    }
   ],
   "source": [
    "len(test_data)"
   ]
  },
  {
   "cell_type": "code",
   "execution_count": 8,
   "metadata": {},
   "outputs": [
    {
     "data": {
      "text/plain": [
       "dict_keys(['id', 'relation', 'token', 'stanford_pos', 'stanford_head', 'stanford_deprel', 'subj_start', 'subj_end', 'obj_start', 'obj_end'])"
      ]
     },
     "execution_count": 8,
     "metadata": {},
     "output_type": "execute_result"
    }
   ],
   "source": [
    "train_data[0].keys()"
   ]
  },
  {
   "cell_type": "code",
   "execution_count": 27,
   "metadata": {},
   "outputs": [],
   "source": [
    "def extract_span(sentence, span_start, span_end):\n",
    "    return np.array(sentence)[span_start: span_end+1]\n",
    "\n",
    "def extract_graph(data):\n",
    "    graph = defaultdict(lambda: set())\n",
    "    facts = set()\n",
    "    subjects = set()\n",
    "    objects = set()\n",
    "    relations = set()\n",
    "    for sample in data:\n",
    "        subject = extract_span(sample['token'], sample['subj_start'], sample['subj_end'] + 1)\n",
    "        object = extract_span(sample['token'], sample['obj_start'], sample['obj_end'] + 1)\n",
    "        relation = sample['relation']\n",
    "        subject_str = ' '.join(subject)\n",
    "        object_str = ' '.join(object)\n",
    "        triple = (subject_str, relation, object_str)\n",
    "        facts.add(triple)\n",
    "        graph[(subject_str, relation)].add(object_str)\n",
    "        subjects.add(subject_str)\n",
    "        objects.add(object_str)\n",
    "        relations.add(relation)\n",
    "    return graph, facts, subjects, objects, relations\n"
   ]
  },
  {
   "cell_type": "code",
   "execution_count": 28,
   "metadata": {},
   "outputs": [],
   "source": [
    "train_graph, train_facts, train_subjects, train_objects, train_relations = extract_graph(train_data)\n",
    "test_graph, test_facts, test_subjects, test_objects, test_relations = extract_graph(test_data)"
   ]
  },
  {
   "cell_type": "code",
   "execution_count": 19,
   "metadata": {},
   "outputs": [
    {
     "data": {
      "text/plain": [
       "7965"
      ]
     },
     "execution_count": 19,
     "metadata": {},
     "output_type": "execute_result"
    }
   ],
   "source": [
    "len(train_facts)"
   ]
  },
  {
   "cell_type": "code",
   "execution_count": 20,
   "metadata": {},
   "outputs": [
    {
     "data": {
      "text/plain": [
       "2713"
      ]
     },
     "execution_count": 20,
     "metadata": {},
     "output_type": "execute_result"
    }
   ],
   "source": [
    "len(test_facts)"
   ]
  },
  {
   "cell_type": "code",
   "execution_count": 21,
   "metadata": {},
   "outputs": [
    {
     "data": {
      "text/plain": [
       "27"
      ]
     },
     "execution_count": 21,
     "metadata": {},
     "output_type": "execute_result"
    }
   ],
   "source": [
    "len(train_facts.intersection(test_facts))"
   ]
  },
  {
   "cell_type": "code",
   "execution_count": 22,
   "metadata": {},
   "outputs": [
    {
     "data": {
      "text/plain": [
       "6842"
      ]
     },
     "execution_count": 22,
     "metadata": {},
     "output_type": "execute_result"
    }
   ],
   "source": [
    "len(train_graph)"
   ]
  },
  {
   "cell_type": "code",
   "execution_count": 23,
   "metadata": {},
   "outputs": [
    {
     "data": {
      "text/plain": [
       "2502"
      ]
     },
     "execution_count": 23,
     "metadata": {},
     "output_type": "execute_result"
    }
   ],
   "source": [
    "len(test_graph)"
   ]
  },
  {
   "cell_type": "code",
   "execution_count": 25,
   "metadata": {},
   "outputs": [
    {
     "data": {
      "text/plain": [
       "481"
      ]
     },
     "execution_count": 25,
     "metadata": {},
     "output_type": "execute_result"
    }
   ],
   "source": [
    "len(set(train_graph.keys()).intersection(set(test_graph.keys())))"
   ]
  },
  {
   "cell_type": "code",
   "execution_count": 30,
   "metadata": {},
   "outputs": [
    {
     "name": "stdout",
     "output_type": "stream",
     "text": [
      "train subjects: 6500\n",
      "test subjects: 2446\n",
      "intersection: 581\n"
     ]
    }
   ],
   "source": [
    "print(f'train subjects: {len(train_subjects)}')\n",
    "print(f'test subjects: {len(test_subjects)}')\n",
    "print(f'intersection: {len(train_subjects.intersection(test_subjects))}')"
   ]
  },
  {
   "cell_type": "code",
   "execution_count": null,
   "outputs": [],
   "source": [
    "print(f'train objects: {len(train_objects)}')\n",
    "print(f'test objects: {len(test_objects)}')\n",
    "print(f'intersection: {len(train_objects.intersection(test_objects))}')"
   ],
   "metadata": {
    "collapsed": false,
    "pycharm": {
     "name": "#%%\n"
    }
   }
  },
  {
   "cell_type": "code",
   "execution_count": null,
   "outputs": [],
   "source": [
    "print(f'train relations: {len(train_relations)}')\n",
    "print(f'test relations: {len(test_relations)}')\n",
    "print(f'intersection: {len(train_relations.intersection(test_relations))}')"
   ],
   "metadata": {
    "collapsed": false,
    "pycharm": {
     "name": "#%%\n"
    }
   }
  },
  {
   "cell_type": "code",
   "execution_count": 31,
   "metadata": {},
   "outputs": [
    {
     "name": "stdout",
     "output_type": "stream",
     "text": [
      "train objects: 6826\n",
      "test objects: 2535\n",
      "intersection: 524\n"
     ]
    }
   ],
   "source": []
  },
  {
   "cell_type": "code",
   "execution_count": 32,
   "metadata": {},
   "outputs": [
    {
     "name": "stdout",
     "output_type": "stream",
     "text": [
      "train relations: 10\n",
      "test relations: 10\n",
      "intersection: 10\n"
     ]
    }
   ],
   "source": [
    "print(f'train relations: {len(train_relations)}')\n",
    "print(f'test relations: {len(test_relations)}')\n",
    "print(f'intersection: {len(train_relations.intersection(test_relations))}')"
   ]
  },
  {
   "cell_type": "code",
   "execution_count": null,
   "metadata": {},
   "outputs": [],
   "source": []
  }
 ],
 "metadata": {
  "kernelspec": {
   "display_name": "Python 3",
   "language": "python",
   "name": "python3"
  },
  "language_info": {
   "codemirror_mode": {
    "name": "ipython",
    "version": 3
   },
   "file_extension": ".py",
   "mimetype": "text/x-python",
   "name": "python",
   "nbconvert_exporter": "python",
   "pygments_lexer": "ipython3",
   "version": "3.7.5"
  }
 },
 "nbformat": 4,
 "nbformat_minor": 1
}